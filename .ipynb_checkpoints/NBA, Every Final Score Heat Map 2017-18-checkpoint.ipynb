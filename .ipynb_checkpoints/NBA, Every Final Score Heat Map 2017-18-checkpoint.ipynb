{
 "cells": [
  {
   "cell_type": "code",
   "execution_count": 8,
   "metadata": {},
   "outputs": [],
   "source": [
    "import pymysql\n",
    "import pandas \n",
    "\n",
    "HOST = \"127.0.0.1\"\n",
    "PORT = 3306\n",
    "USER = \"root\"\n",
    "PASSWORD = \"\"\n",
    "DATABASE = \"nba\"\n",
    "\n",
    "conn = pymysql.connect(host=HOST, port=PORT, user=USER, password=PASSWORD, database=DATABASE, charset='utf8mb4')\n",
    "\n",
    "def get_all_2017_18_games():\n",
    "    \"\"\" Create a database and table for this benchmark to use. \"\"\"\n",
    "\n",
    "    return pandas.read_sql_query(\"\"\"\n",
    "        SELECT\n",
    "            gh.game_date,\n",
    "            gh.game_id,\n",
    "            ht.name home_team_name,\n",
    "            ls_ht.pts home_team_points,\n",
    "            at.name away_team_name,\n",
    "            ls_at.pts away_team_points\n",
    "        FROM\n",
    "            game_header gh,\n",
    "            line_score ls_ht,\n",
    "            line_score ls_at,\n",
    "            team ht,\n",
    "            team at\n",
    "        WHERE\n",
    "            gh.game_date >= '2017-07-01' AND\n",
    "            gh.game_id = ls_ht.game_id AND\n",
    "            gh.game_id = ls_at.game_id AND\n",
    "            ls_ht.team_id = ht.id AND\n",
    "            gh.home_team_id = ht.id AND\n",
    "            ls_at.team_id = at.id AND\n",
    "            gh.away_team_id = at.id\n",
    "        GROUP BY 2, 3, 4, 5\n",
    "        ORDER BY 1 DESC;\n",
    "    \"\"\", conn)\n",
    "\n",
    "games_df = get_all_2017_18_games()"
   ]
  },
  {
   "cell_type": "code",
   "execution_count": null,
   "metadata": {},
   "outputs": [],
   "source": []
  }
 ],
 "metadata": {
  "kernelspec": {
   "display_name": "Python 3",
   "language": "python",
   "name": "python3"
  },
  "language_info": {
   "codemirror_mode": {
    "name": "ipython",
    "version": 3
   },
   "file_extension": ".py",
   "mimetype": "text/x-python",
   "name": "python",
   "nbconvert_exporter": "python",
   "pygments_lexer": "ipython3",
   "version": "3.6.1"
  }
 },
 "nbformat": 4,
 "nbformat_minor": 2
}
