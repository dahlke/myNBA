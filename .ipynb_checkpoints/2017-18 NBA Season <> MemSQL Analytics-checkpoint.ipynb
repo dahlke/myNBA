{
 "cells": [
  {
   "cell_type": "markdown",
   "metadata": {},
   "source": [
    "### Build MemSQL Connection"
   ]
  },
  {
   "cell_type": "code",
   "execution_count": 1,
   "metadata": {},
   "outputs": [],
   "source": [
    "import pymysql\n",
    "import pandas \n",
    "\n",
    "HOST = \"127.0.0.1\"\n",
    "PORT = 3306\n",
    "USER = \"root\"\n",
    "PASSWORD = \"\"\n",
    "DATABASE = \"nba\"\n",
    "\n",
    "conn = pymysql.connect(host=HOST, port=PORT, user=USER, password=PASSWORD, database=DATABASE, charset='utf8mb4')"
   ]
  },
  {
   "cell_type": "markdown",
   "metadata": {},
   "source": [
    "### Fetch Date, Teams, Scores and Broadcasters for Given Season"
   ]
  },
  {
   "cell_type": "code",
   "execution_count": 2,
   "metadata": {},
   "outputs": [],
   "source": [
    "def get_all_2017_18_games():\n",
    "    \"\"\" Create a database and table for this benchmark to use. \"\"\"\n",
    "\n",
    "    return pandas.read_sql_query(\"\"\" \n",
    "        SELECT\n",
    "            gh.game_date,\n",
    "            gh.natl_tv_broadcaster,\n",
    "            ht.name home_team_name,\n",
    "            at.name away_team_name,\n",
    "            hls.pts home_team_pts,\n",
    "            als.pts away_team_pts\n",
    "        FROM\n",
    "            game_header gh\n",
    "            \n",
    "        -- Get the home team information\n",
    "        JOIN team ht ON\n",
    "            gh.home_team_id = ht.id\n",
    "        JOIN line_score hls ON\n",
    "            hls.game_id = gh.game_id AND\n",
    "            hls.team_id = ht.id\n",
    "\n",
    "        -- Get the visiting team information\n",
    "        JOIN team at ON\n",
    "            gh.away_team_id = at.id\n",
    "        JOIN line_score als ON\n",
    "            als.game_id = gh.game_id AND\n",
    "            als.team_id = at.id\n",
    "            \n",
    "        ORDER BY gh.game_date DESC\n",
    "    \"\"\", conn)\n",
    "\n",
    "games_df = get_all_2017_18_games()"
   ]
  },
  {
   "cell_type": "code",
   "execution_count": 2,
   "metadata": {
    "scrolled": true
   },
   "outputs": [
    {
     "name": "stdout",
     "output_type": "stream",
     "text": [
      "High five! You successfully sent some data to your account on plotly. View your plot in your browser at https://plot.ly/~NeilDahlke/0 or inside your plot.ly account where it is named 'Home Team Points v Away Team Points Comparison'\n"
     ]
    },
    {
     "data": {
      "text/html": [
       "<iframe id=\"igraph\" scrolling=\"no\" style=\"border:none;\" seamless=\"seamless\" src=\"https://plot.ly/~NeilDahlke/0.embed\" height=\"525px\" width=\"100%\"></iframe>"
      ],
      "text/plain": [
       "<plotly.tools.PlotlyDisplay object>"
      ]
     },
     "execution_count": 2,
     "metadata": {},
     "output_type": "execute_result"
    }
   ],
   "source": [
    "import plotly.plotly as ply\n",
    "from plotly.graph_objs import *\n",
    "\n",
    "game_names = []\n",
    "for i, gdf in games_df.iterrows():\n",
    "    game_name = '[%s] %s (%s) @ %s (%s)' % (\n",
    "        gdf['game_date'], \n",
    "        gdf['home_team_name'], \n",
    "        gdf['home_team_pts'],\n",
    "        gdf['away_team_name'], \n",
    "        gdf['away_team_pts']\n",
    "    )\n",
    "    game_names.append(game_name)\n",
    "\n",
    "trace1 = Scatter(\n",
    "     x=games_df['home_team_pts'],\n",
    "     y=games_df['away_team_pts'],\n",
    "     text=game_names,\n",
    "     mode='markers'\n",
    ")\n",
    "\n",
    "layout = Layout(\n",
    "     xaxis=XAxis( title='Home Team Points' ),\n",
    "     yaxis=YAxis( type='log', title='Visitor Team Points' )\n",
    ")\n",
    "\n",
    "data = Data([trace1])\n",
    "fig = Figure(data=data, layout=layout)\n",
    "ply.iplot(fig, filename='Home Team Points v Away Team Points Comparison')"
   ]
  },
  {
   "cell_type": "markdown",
   "metadata": {},
   "source": [
    "### Heatmap of point differentials for each team."
   ]
  },
  {
   "cell_type": "code",
   "execution_count": 3,
   "metadata": {},
   "outputs": [
    {
     "data": {
      "text/html": [
       "<iframe id=\"igraph\" scrolling=\"no\" style=\"border:none;\" seamless=\"seamless\" src=\"https://plot.ly/~NeilDahlke/2.embed\" height=\"525px\" width=\"100%\"></iframe>"
      ],
      "text/plain": [
       "<plotly.tools.PlotlyDisplay object>"
      ]
     },
     "execution_count": 3,
     "metadata": {},
     "output_type": "execute_result"
    }
   ],
   "source": [
    "import plotly.plotly as ply\n",
    "from plotly.graph_objs import *\n",
    "\n",
    "heatmap_matrix = []\n",
    "teams = {}\n",
    "\n",
    "for i, gdf in games_df.iterrows():\n",
    "    home_name = gdf['home_team_name']\n",
    "    away_name = gdf['away_team_name']\n",
    "    home_pts = gdf['home_team_pts']\n",
    "    away_pts = gdf['away_team_pts']\n",
    "    \n",
    "    if home_name not in teams:\n",
    "        teams[home_name] = {}\n",
    "    \n",
    "    if away_name not in teams:\n",
    "        teams[away_name] = {}\n",
    "        \n",
    "    if away_name not in teams[home_name]:\n",
    "        teams[home_name][away_name] = 0\n",
    "\n",
    "    if home_name not in teams[away_name]:\n",
    "        teams[away_name][home_name] = 0\n",
    "\n",
    "    \n",
    "    teams[away_name][home_name] += home_pts\n",
    "    teams[home_name][away_name] += away_pts\n",
    "    \"\"\"\n",
    "    if (away_name == \"Warriors\" or home_name == \"Warriors\") and \\\n",
    "        (away_name == \"Cavaliers\" or home_name == \"Cavaliers\"):\n",
    "        print(away_name, away_pts, '@', home_name, home_pts)\n",
    "    \"\"\"\n",
    "\n",
    "sorted_team_names = sorted(teams.keys())\n",
    "\n",
    "layout = Layout(\n",
    "     xaxis=XAxis(title='Home Team Name'),\n",
    "     yaxis=YAxis(title='Away Team Name')\n",
    ")\n",
    "\n",
    "point_differentials = []\n",
    "for x_team in sorted_team_names:\n",
    "    z = []\n",
    "    for y_team in sorted_team_names:\n",
    "        if x_team == y_team:\n",
    "            z.append(0)\n",
    "        else:\n",
    "            delta = teams[x_team][y_team] - teams[y_team][x_team]\n",
    "            z.append(delta)\n",
    "    point_differentials.append(z)\n",
    "\n",
    "trace = Heatmap(\n",
    "    x=sorted_team_names,\n",
    "    y=sorted_team_names,\n",
    "    z=point_differentials,\n",
    "    colorscale='Blackbody'\n",
    ")\n",
    "data=[trace]\n",
    "ply.iplot(data, filename='basic-heatmap')"
   ]
  },
  {
   "cell_type": "code",
   "execution_count": null,
   "metadata": {},
   "outputs": [],
   "source": []
  }
 ],
 "metadata": {
  "kernelspec": {
   "display_name": "Python 3",
   "language": "python",
   "name": "python3"
  },
  "language_info": {
   "codemirror_mode": {
    "name": "ipython",
    "version": 3
   },
   "file_extension": ".py",
   "mimetype": "text/x-python",
   "name": "python",
   "nbconvert_exporter": "python",
   "pygments_lexer": "ipython3",
   "version": "3.6.1"
  }
 },
 "nbformat": 4,
 "nbformat_minor": 2
}
