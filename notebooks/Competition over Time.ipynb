{
 "cells": [
  {
   "cell_type": "markdown",
   "metadata": {},
   "source": [
    "# Data Definition Phase\n",
    "\n",
    "### Build MemSQL Connection"
   ]
  },
  {
   "cell_type": "code",
   "execution_count": 14,
   "metadata": {},
   "outputs": [],
   "source": [
    "import pymysql\n",
    "import pandas \n",
    "\n",
    "HOST = \"127.0.0.1\"\n",
    "PORT = 3306\n",
    "USER = \"root\"\n",
    "PASSWORD = \"\"\n",
    "DATABASE = \"nba\"\n",
    "\n",
    "conn = pymysql.connect(\n",
    "    host=HOST, \n",
    "    port=PORT, \n",
    "    user=USER, \n",
    "    password=PASSWORD, \n",
    "    database=DATABASE, \n",
    "    charset='utf8mb4'\n",
    ")"
   ]
  },
  {
   "cell_type": "markdown",
   "metadata": {},
   "source": [
    "### Define Methods for Retrieving Each Phase of a Season"
   ]
  },
  {
   "cell_type": "code",
   "execution_count": 15,
   "metadata": {},
   "outputs": [],
   "source": [
    "def get_games_for_season(season_start_yr, season_phase):\n",
    "    \"\"\" Create a database and table for this benchmark to use. \"\"\"\n",
    "    season_start_yr_fmt = \"%d-01-01\" % season_start_yr\n",
    "    cte_alias = \"\"\n",
    "\n",
    "    if season_phase == \"regular_season\":\n",
    "        cte_alias = \"agirs\"\n",
    "        cte_name = \"all_games_in_regular_season\"\n",
    "        cte = \"\"\"\n",
    "            all_games_in_regular_season AS (\n",
    "                SELECT\n",
    "                    *\n",
    "                FROM\n",
    "                    game_header gh,\n",
    "                    season_dates sd\n",
    "                WHERE\n",
    "                    gh.game_date BETWEEN \n",
    "                        sd.regular_season_start AND \n",
    "                        sd.regular_season_end\n",
    "            )\n",
    "        \"\"\"\n",
    "    elif season_phase == \"playoffs\":\n",
    "        cte_alias = \"agip\"\n",
    "        cte_name = \"all_games_in_playoffs\"\n",
    "        cte = \"\"\"\n",
    "            all_games_in_playoffs AS (\n",
    "                SELECT\n",
    "                    *\n",
    "                FROM\n",
    "                    game_header gh,\n",
    "                    season_dates sd\n",
    "                WHERE\n",
    "                    gh.game_date BETWEEN \n",
    "                        sd.playoffs_start AND \n",
    "                        sd.playoffs_end\n",
    "            )\n",
    "        \"\"\"\n",
    "    elif season_phase == \"finals\":\n",
    "        cte_alias = \"agif\"\n",
    "        cte_name = \"all_games_in_finals\"\n",
    "        cte = \"\"\"\n",
    "            all_games_in_finals AS (\n",
    "            SELECT\n",
    "                *\n",
    "            FROM\n",
    "                game_header gh,\n",
    "                season_dates sd\n",
    "            WHERE\n",
    "                gh.game_date BETWEEN sd.finals_start AND sd.finals_end\n",
    "        )\n",
    "        \"\"\"\n",
    "    \n",
    "    return pandas.read_sql_query(\"\"\" \n",
    "        WITH season_dates AS (\n",
    "            SELECT\n",
    "                *\n",
    "            FROM season\n",
    "            WHERE regular_season_start > \"%(season_start_yr_fmt)s\"\n",
    "            ORDER BY regular_season_start ASC\n",
    "            LIMIT 1\n",
    "        ), %(cte)s\n",
    "        SELECT\n",
    "            %(cte_alias)s.game_date,\n",
    "            %(cte_alias)s.natl_tv_broadcaster,\n",
    "            ht.name home_team_name,\n",
    "            at.name away_team_name,\n",
    "            hls.pts home_team_pts,\n",
    "            als.pts away_team_pts\n",
    "        FROM\n",
    "            %(cte_name)s %(cte_alias)s\n",
    "\n",
    "        -- Get the home team information\n",
    "        JOIN team ht ON\n",
    "            %(cte_alias)s.home_team_id = ht.id\n",
    "        JOIN line_score hls ON\n",
    "            hls.game_id = %(cte_alias)s.game_id AND\n",
    "            hls.team_id = ht.id\n",
    "\n",
    "        -- Get the visiting team information\n",
    "        JOIN team at ON\n",
    "            %(cte_alias)s.away_team_id = at.id\n",
    "        JOIN line_score als ON\n",
    "            als.game_id = %(cte_alias)s.game_id AND\n",
    "            als.team_id = at.id\n",
    "        ORDER BY %(cte_alias)s.game_date DESC\n",
    "    \"\"\" % {\n",
    "        \"season_start_yr_fmt\": season_start_yr_fmt, \n",
    "        \"cte\": cte, \n",
    "        \"cte_name\": cte_name, \n",
    "        \"cte_alias\": cte_alias\n",
    "    }, conn)"
   ]
  },
  {
   "cell_type": "markdown",
   "metadata": {},
   "source": [
    "### Select a Season To Retrieve Game Data For"
   ]
  },
  {
   "cell_type": "code",
   "execution_count": 42,
   "metadata": {},
   "outputs": [
    {
     "data": {
      "application/vnd.jupyter.widget-view+json": {
       "model_id": "8606f03af8cb452ea5376fe748fcbea1",
       "version_major": 2,
       "version_minor": 0
      },
      "text/plain": [
       "interactive(children=(IntSlider(value=1979, description='NBA Season', max=2018, min=1979), Output()), _dom_cla…"
      ]
     },
     "metadata": {},
     "output_type": "display_data"
    }
   ],
   "source": [
    "from ipywidgets import interact, interactive, fixed, interact_manual\n",
    "import ipywidgets as widgets\n",
    "\n",
    "# TODO: Get the years from the database\n",
    "NBA_MODERN_ERA_START_YEAR=1979\n",
    "NBA_SEASON_PHASES = ['Regular Season', 'Playoffs', 'Finals']\n",
    "NOW_YEAR = 2018\n",
    "\n",
    "selected_year = NBA_MODERN_ERA_START_YEAR\n",
    "selected_phase = NBA_SEASON_PHASES[0]\n",
    "\n",
    "def get_games(x):\n",
    "    selected_year = x\n",
    "    regular_season_games_df = get_games_for_season(x, \"regular_season\")\n",
    "    playoff_games_df = get_games_for_season(x, \"playoffs\")\n",
    "    finals_games_df = get_games_for_season(x, \"finals\")\n",
    "    print(\"Year:\", selected_year)\n",
    "    print(\"# Regular Season Games:\", regular_season_games_df.size)\n",
    "    print(\"# Playoff Games:\", playoff_games_df.size)\n",
    "    print(\"# Finals Games:\", finals_games_df.size)\n",
    "\n",
    "interact(get_games, x=widgets.IntSlider(\n",
    "    min=NBA_MODERN_ERA_START_YEAR,\n",
    "    max=2018,\n",
    "    step=1,\n",
    "    description=\"NBA Season\",\n",
    "    value=NBA_MODERN_ERA_START_YEAR\n",
    "));\n",
    "\n",
    "# interact(f, x=NBA_SEASON_PHASES);\n",
    "# Teams"
   ]
  },
  {
   "cell_type": "markdown",
   "metadata": {},
   "source": [
    "## Visualize"
   ]
  },
  {
   "cell_type": "code",
   "execution_count": 43,
   "metadata": {},
   "outputs": [
    {
     "name": "stdout",
     "output_type": "stream",
     "text": [
      "1979\n"
     ]
    }
   ],
   "source": [
    "print(selected_year)"
   ]
  },
  {
   "cell_type": "code",
   "execution_count": 34,
   "metadata": {
    "scrolled": true
   },
   "outputs": [
    {
     "name": "stdout",
     "output_type": "stream",
     "text": [
      "High five! You successfully sent some data to your account on plotly. View your plot in your browser at https://plot.ly/~NeilDahlke/0 or inside your plot.ly account where it is named 'Home Team Points v Away Team Points Comparison'\n"
     ]
    },
    {
     "data": {
      "text/html": [
       "<iframe id=\"igraph\" scrolling=\"no\" style=\"border:none;\" seamless=\"seamless\" src=\"https://plot.ly/~NeilDahlke/0.embed\" height=\"525px\" width=\"100%\"></iframe>"
      ],
      "text/plain": [
       "<plotly.tools.PlotlyDisplay object>"
      ]
     },
     "execution_count": 34,
     "metadata": {},
     "output_type": "execute_result"
    }
   ],
   "source": [
    "import plotly.plotly as ply\n",
    "from plotly.graph_objs import *\n",
    "\n",
    "game_names = []\n",
    "for i, gdf in regular_season_games_df.iterrows():\n",
    "    game_name = '[%s] %s (%s) @ %s (%s)' % (\n",
    "        gdf['game_date'], \n",
    "        gdf['home_team_name'], \n",
    "        gdf['home_team_pts'],\n",
    "        gdf['away_team_name'], \n",
    "        gdf['away_team_pts']\n",
    "    )\n",
    "    game_names.append(game_name)\n",
    "\n",
    "trace1 = Scatter(\n",
    "     x=regular_season_games_df['home_team_pts'],\n",
    "     y=regular_season_games_df['away_team_pts'],\n",
    "     text=game_names,\n",
    "     mode='markers'\n",
    ")\n",
    "\n",
    "layout = Layout(\n",
    "     xaxis=XAxis( title='Home Team Points' ),\n",
    "     yaxis=YAxis( type='log', title='Visitor Team Points' )\n",
    ")\n",
    "\n",
    "data = Data([trace1])\n",
    "fig = Figure(data=data, layout=layout)\n",
    "ply.iplot(fig, filename='Home Team Points v Away Team Points Comparison')"
   ]
  },
  {
   "cell_type": "markdown",
   "metadata": {},
   "source": [
    "### Heatmap of point differentials for each team."
   ]
  },
  {
   "cell_type": "code",
   "execution_count": 3,
   "metadata": {},
   "outputs": [
    {
     "data": {
      "text/html": [
       "<iframe id=\"igraph\" scrolling=\"no\" style=\"border:none;\" seamless=\"seamless\" src=\"https://plot.ly/~NeilDahlke/2.embed\" height=\"525px\" width=\"100%\"></iframe>"
      ],
      "text/plain": [
       "<plotly.tools.PlotlyDisplay object>"
      ]
     },
     "execution_count": 3,
     "metadata": {},
     "output_type": "execute_result"
    }
   ],
   "source": [
    "import plotly.plotly as ply\n",
    "from plotly.graph_objs import *\n",
    "\n",
    "heatmap_matrix = []\n",
    "teams = {}\n",
    "\n",
    "for i, gdf in games_df.iterrows():\n",
    "    home_name = gdf['home_team_name']\n",
    "    away_name = gdf['away_team_name']\n",
    "    home_pts = gdf['home_team_pts']\n",
    "    away_pts = gdf['away_team_pts']\n",
    "    \n",
    "    if home_name not in teams:\n",
    "        teams[home_name] = {}\n",
    "    \n",
    "    if away_name not in teams:\n",
    "        teams[away_name] = {}\n",
    "        \n",
    "    if away_name not in teams[home_name]:\n",
    "        teams[home_name][away_name] = 0\n",
    "\n",
    "    if home_name not in teams[away_name]:\n",
    "        teams[away_name][home_name] = 0\n",
    "\n",
    "    \n",
    "    teams[away_name][home_name] += home_pts\n",
    "    teams[home_name][away_name] += away_pts\n",
    "    \"\"\"\n",
    "    if (away_name == \"Warriors\" or home_name == \"Warriors\") and \\\n",
    "        (away_name == \"Cavaliers\" or home_name == \"Cavaliers\"):\n",
    "        print(away_name, away_pts, '@', home_name, home_pts)\n",
    "    \"\"\"\n",
    "\n",
    "sorted_team_names = sorted(teams.keys())\n",
    "\n",
    "layout = Layout(\n",
    "     xaxis=XAxis(title='Home Team Name'),\n",
    "     yaxis=YAxis(title='Away Team Name')\n",
    ")\n",
    "\n",
    "point_differentials = []\n",
    "for x_team in sorted_team_names:\n",
    "    z = []\n",
    "    for y_team in sorted_team_names:\n",
    "        if x_team == y_team:\n",
    "            z.append(0)\n",
    "        else:\n",
    "            delta = teams[x_team][y_team] - teams[y_team][x_team]\n",
    "            z.append(delta)\n",
    "    point_differentials.append(z)\n",
    "\n",
    "trace = Heatmap(\n",
    "    x=sorted_team_names,\n",
    "    y=sorted_team_names,\n",
    "    z=point_differentials,\n",
    "    colorscale='Blackbody'\n",
    ")\n",
    "data=[trace]\n",
    "ply.iplot(data, filename='basic-heatmap')"
   ]
  },
  {
   "cell_type": "code",
   "execution_count": 6,
   "metadata": {},
   "outputs": [
    {
     "name": "stdout",
     "output_type": "stream",
     "text": [
      "   id regular_season_start regular_season_end playoffs_start playoffs_end  \\\n",
      "0   1           1979-10-12         1980-03-30     1980-04-02   1980-04-30   \n",
      "\n",
      "  finals_start  finals_end  \n",
      "0   1980-05-04  1980-06-16  \n"
     ]
    }
   ],
   "source": [
    "def get_season_info_for_year(season_start_yr):\n",
    "    \"\"\" Create a database and table for this benchmark to use. \"\"\"\n",
    "    season_start_yr_fmt = \"%d-01-01\" % season_start_yr\n",
    "    return pandas.read_sql_query(\"\"\" \n",
    "        SELECT\n",
    "            *\n",
    "        FROM season\n",
    "        WHERE regular_season_start > %s\n",
    "        ORDER BY regular_season_start ASC\n",
    "        LIMIT 1;\n",
    "    \"\"\" % season_start_yr_fmt, conn)\n",
    "\n",
    "season_info = get_season_info_for_year(1979)\n",
    "print(season_info)"
   ]
  },
  {
   "cell_type": "code",
   "execution_count": null,
   "metadata": {},
   "outputs": [],
   "source": []
  }
 ],
 "metadata": {
  "kernelspec": {
   "display_name": "Python 3",
   "language": "python",
   "name": "python3"
  },
  "language_info": {
   "codemirror_mode": {
    "name": "ipython",
    "version": 3
   },
   "file_extension": ".py",
   "mimetype": "text/x-python",
   "name": "python",
   "nbconvert_exporter": "python",
   "pygments_lexer": "ipython3",
   "version": "3.7.1"
  }
 },
 "nbformat": 4,
 "nbformat_minor": 2
}
