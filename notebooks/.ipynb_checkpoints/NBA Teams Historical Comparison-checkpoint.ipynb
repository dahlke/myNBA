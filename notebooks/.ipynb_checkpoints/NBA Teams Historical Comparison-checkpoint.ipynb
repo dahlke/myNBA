{
 "cells": [
  {
   "cell_type": "markdown",
   "metadata": {},
   "source": [
    "# Data Definition Phase\n",
    "\n",
    "### Build MemSQL Connection"
   ]
  },
  {
   "cell_type": "code",
   "execution_count": 2,
   "metadata": {},
   "outputs": [],
   "source": [
    "import pymysql\n",
    "import pandas \n",
    "\n",
    "HOST = \"127.0.0.1\"\n",
    "PORT = 3306\n",
    "USER = \"root\"\n",
    "PASSWORD = \"\"\n",
    "DATABASE = \"nba\"\n",
    "\n",
    "conn = pymysql.connect(\n",
    "    host=HOST, \n",
    "    port=PORT, \n",
    "    user=USER, \n",
    "    password=PASSWORD, \n",
    "    database=DATABASE, \n",
    "    charset='utf8mb4'\n",
    ")"
   ]
  },
  {
   "cell_type": "code",
   "execution_count": null,
   "metadata": {},
   "outputs": [],
   "source": []
  }
 ],
 "metadata": {
  "kernelspec": {
   "display_name": "Python 3",
   "language": "python",
   "name": "python3"
  },
  "language_info": {
   "codemirror_mode": {
    "name": "ipython",
    "version": 3
   },
   "file_extension": ".py",
   "mimetype": "text/x-python",
   "name": "python",
   "nbconvert_exporter": "python",
   "pygments_lexer": "ipython3",
   "version": "3.7.1"
  }
 },
 "nbformat": 4,
 "nbformat_minor": 2
}
