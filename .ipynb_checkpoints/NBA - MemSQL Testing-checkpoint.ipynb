{
 "cells": [
  {
   "cell_type": "code",
   "execution_count": 7,
   "metadata": {},
   "outputs": [
    {
     "name": "stdout",
     "output_type": "stream",
     "text": [
      "[Row({'team_id': 1610612738, 'season_yr': '2017-18', 'city': 'Boston', 'name': 'Celtics', 'abbreviation': 'BOS', 'conference': 'East', 'division': 'Atlantic', 'wins': 55, 'losses': 27, 'conference_rank': 2, 'division_rank': 2, 'min_year': 1946, 'max_year': 2017}), Row({'team_id': 1610612746, 'season_yr': '2017-18', 'city': 'LA', 'name': 'Clippers', 'abbreviation': 'LAC', 'conference': 'West', 'division': 'Pacific', 'wins': 42, 'losses': 40, 'conference_rank': 10, 'division_rank': 2, 'min_year': 1970, 'max_year': 2017}), Row({'team_id': 1610612753, 'season_yr': '2017-18', 'city': 'Orlando', 'name': 'Magic', 'abbreviation': 'ORL', 'conference': 'East', 'division': 'Southeast', 'wins': 25, 'losses': 57, 'conference_rank': 14, 'division_rank': 4, 'min_year': 1989, 'max_year': 2017}), Row({'team_id': 1610612762, 'season_yr': '2017-18', 'city': 'Utah', 'name': 'Jazz', 'abbreviation': 'UTA', 'conference': 'West', 'division': 'Northwest', 'wins': 48, 'losses': 34, 'conference_rank': 5, 'division_rank': 3, 'min_year': 1974, 'max_year': 2017}), Row({'team_id': 1610612763, 'season_yr': '2017-18', 'city': 'Memphis', 'name': 'Grizzlies', 'abbreviation': 'MEM', 'conference': 'West', 'division': 'Southwest', 'wins': 22, 'losses': 60, 'conference_rank': 14, 'division_rank': 5, 'min_year': 1995, 'max_year': 2017}), Row({'team_id': 1610612765, 'season_yr': '2017-18', 'city': 'Detroit', 'name': 'Pistons', 'abbreviation': 'DET', 'conference': 'East', 'division': 'Central', 'wins': 39, 'losses': 43, 'conference_rank': 9, 'division_rank': 4, 'min_year': 1948, 'max_year': 2017}), Row({'team_id': 1610612757, 'season_yr': '2017-18', 'city': 'Portland', 'name': 'Trail Blazers', 'abbreviation': 'POR', 'conference': 'West', 'division': 'Northwest', 'wins': 49, 'losses': 33, 'conference_rank': 3, 'division_rank': 1, 'min_year': 1970, 'max_year': 2017}), Row({'team_id': 1610612739, 'season_yr': '2017-18', 'city': 'Cleveland', 'name': 'Cavaliers', 'abbreviation': 'CLE', 'conference': 'East', 'division': 'Central', 'wins': 50, 'losses': 32, 'conference_rank': 4, 'division_rank': 1, 'min_year': 1970, 'max_year': 2017}), Row({'team_id': 1610612744, 'season_yr': '2017-18', 'city': 'Golden State', 'name': 'Warriors', 'abbreviation': 'GSW', 'conference': 'West', 'division': 'Pacific', 'wins': 58, 'losses': 24, 'conference_rank': 2, 'division_rank': 1, 'min_year': 1946, 'max_year': 2017}), Row({'team_id': 1610612747, 'season_yr': '2017-18', 'city': 'Los Angeles', 'name': 'Lakers', 'abbreviation': 'LAL', 'conference': 'West', 'division': 'Pacific', 'wins': 35, 'losses': 47, 'conference_rank': 11, 'division_rank': 3, 'min_year': 1948, 'max_year': 2017}), Row({'team_id': 1610612748, 'season_yr': '2017-18', 'city': 'Miami', 'name': 'Heat', 'abbreviation': 'MIA', 'conference': 'East', 'division': 'Southeast', 'wins': 44, 'losses': 38, 'conference_rank': 6, 'division_rank': 1, 'min_year': 1988, 'max_year': 2017}), Row({'team_id': 1610612760, 'season_yr': '2017-18', 'city': 'Oklahoma City', 'name': 'Thunder', 'abbreviation': 'OKC', 'conference': 'West', 'division': 'Northwest', 'wins': 48, 'losses': 34, 'conference_rank': 4, 'division_rank': 2, 'min_year': 1967, 'max_year': 2017}), Row({'team_id': 1610612751, 'season_yr': '2017-18', 'city': 'Brooklyn', 'name': 'Nets', 'abbreviation': 'BKN', 'conference': 'East', 'division': 'Atlantic', 'wins': 28, 'losses': 54, 'conference_rank': 12, 'division_rank': 5, 'min_year': 1976, 'max_year': 2017}), Row({'team_id': 1610612756, 'season_yr': '2017-18', 'city': 'Phoenix', 'name': 'Suns', 'abbreviation': 'PHX', 'conference': 'West', 'division': 'Pacific', 'wins': 21, 'losses': 61, 'conference_rank': 15, 'division_rank': 5, 'min_year': 1968, 'max_year': 2017}), Row({'team_id': 1610612764, 'season_yr': '2017-18', 'city': 'Washington', 'name': 'Wizards', 'abbreviation': 'WAS', 'conference': 'East', 'division': 'Southeast', 'wins': 43, 'losses': 39, 'conference_rank': 8, 'division_rank': 2, 'min_year': 1961, 'max_year': 2017}), Row({'team_id': 1610612766, 'season_yr': '2017-18', 'city': 'Charlotte', 'name': 'Hornets', 'abbreviation': 'CHA', 'conference': 'East', 'division': 'Southeast', 'wins': 36, 'losses': 46, 'conference_rank': 10, 'division_rank': 3, 'min_year': 1988, 'max_year': 2017}), Row({'team_id': 1610612742, 'season_yr': '2017-18', 'city': 'Dallas', 'name': 'Mavericks', 'abbreviation': 'DAL', 'conference': 'West', 'division': 'Southwest', 'wins': 24, 'losses': 58, 'conference_rank': 13, 'division_rank': 4, 'min_year': 1980, 'max_year': 2017}), Row({'team_id': 1610612745, 'season_yr': '2017-18', 'city': 'Houston', 'name': 'Rockets', 'abbreviation': 'HOU', 'conference': 'West', 'division': 'Southwest', 'wins': 65, 'losses': 17, 'conference_rank': 1, 'division_rank': 1, 'min_year': 1967, 'max_year': 2017}), Row({'team_id': 1610612750, 'season_yr': '2017-18', 'city': 'Minnesota', 'name': 'Timberwolves', 'abbreviation': 'MIN', 'conference': 'West', 'division': 'Northwest', 'wins': 47, 'losses': 35, 'conference_rank': 8, 'division_rank': 4, 'min_year': 1989, 'max_year': 2017}), Row({'team_id': 1610612755, 'season_yr': '2017-18', 'city': 'Philadelphia', 'name': '76ers', 'abbreviation': 'PHI', 'conference': 'East', 'division': 'Atlantic', 'wins': 52, 'losses': 30, 'conference_rank': 3, 'division_rank': 3, 'min_year': 1949, 'max_year': 2017}), Row({'team_id': 1610612737, 'season_yr': '2017-18', 'city': 'Atlanta', 'name': 'Hawks', 'abbreviation': 'ATL', 'conference': 'East', 'division': 'Southeast', 'wins': 24, 'losses': 58, 'conference_rank': 15, 'division_rank': 5, 'min_year': 1949, 'max_year': 2017}), Row({'team_id': 1610612740, 'season_yr': '2017-18', 'city': 'New Orleans', 'name': 'Pelicans', 'abbreviation': 'NOP', 'conference': 'West', 'division': 'Southwest', 'wins': 48, 'losses': 34, 'conference_rank': 6, 'division_rank': 2, 'min_year': 2002, 'max_year': 2017}), Row({'team_id': 1610612743, 'season_yr': '2017-18', 'city': 'Denver', 'name': 'Nuggets', 'abbreviation': 'DEN', 'conference': 'West', 'division': 'Northwest', 'wins': 46, 'losses': 36, 'conference_rank': 9, 'division_rank': 5, 'min_year': 1976, 'max_year': 2017}), Row({'team_id': 1610612759, 'season_yr': '2017-18', 'city': 'San Antonio', 'name': 'Spurs', 'abbreviation': 'SAS', 'conference': 'West', 'division': 'Southwest', 'wins': 47, 'losses': 35, 'conference_rank': 7, 'division_rank': 3, 'min_year': 1976, 'max_year': 2017}), Row({'team_id': 1610612761, 'season_yr': '2017-18', 'city': 'Toronto', 'name': 'Raptors', 'abbreviation': 'TOR', 'conference': 'East', 'division': 'Atlantic', 'wins': 59, 'losses': 23, 'conference_rank': 1, 'division_rank': 1, 'min_year': 1995, 'max_year': 2017}), Row({'team_id': 1610612741, 'season_yr': '2017-18', 'city': 'Chicago', 'name': 'Bulls', 'abbreviation': 'CHI', 'conference': 'East', 'division': 'Central', 'wins': 27, 'losses': 55, 'conference_rank': 13, 'division_rank': 5, 'min_year': 1966, 'max_year': 2017}), Row({'team_id': 1610612749, 'season_yr': '2017-18', 'city': 'Milwaukee', 'name': 'Bucks', 'abbreviation': 'MIL', 'conference': 'East', 'division': 'Central', 'wins': 44, 'losses': 38, 'conference_rank': 7, 'division_rank': 3, 'min_year': 1968, 'max_year': 2017}), Row({'team_id': 1610612752, 'season_yr': '2017-18', 'city': 'New York', 'name': 'Knicks', 'abbreviation': 'NYK', 'conference': 'East', 'division': 'Atlantic', 'wins': 29, 'losses': 53, 'conference_rank': 11, 'division_rank': 4, 'min_year': 1946, 'max_year': 2017}), Row({'team_id': 1610612754, 'season_yr': '2017-18', 'city': 'Indiana', 'name': 'Pacers', 'abbreviation': 'IND', 'conference': 'East', 'division': 'Central', 'wins': 48, 'losses': 34, 'conference_rank': 5, 'division_rank': 2, 'min_year': 1976, 'max_year': 2017}), Row({'team_id': 1610612758, 'season_yr': '2017-18', 'city': 'Sacramento', 'name': 'Kings', 'abbreviation': 'SAC', 'conference': 'West', 'division': 'Pacific', 'wins': 27, 'losses': 55, 'conference_rank': 12, 'division_rank': 4, 'min_year': 1948, 'max_year': 2017})]\n",
      "Exiting.\n"
     ]
    }
   ],
   "source": [
    "from memsql.common import database\n",
    "\n",
    "\n",
    "HOST = \"127.0.0.1\"\n",
    "PORT = 3306\n",
    "USER = \"root\"\n",
    "PASSWORD = \"\"\n",
    "DATABASE = \"nba\"\n",
    "\n",
    "def get_connection(db=DATABASE):\n",
    "    \"\"\" Returns a new connection to the database. \"\"\"\n",
    "    return database.connect(host=HOST, port=PORT, user=USER, password=PASSWORD, database=db)\n",
    "\n",
    "def main():\n",
    "    \"\"\" Create a database and table for this benchmark to use. \"\"\"\n",
    "\n",
    "    with get_connection(db=DATABASE) as conn:\n",
    "        teams = conn.query('SELECT * FROM team')\n",
    "        print(teams)\n",
    "\n",
    "if __name__ == '__main__':\n",
    "    try:\n",
    "        main()\n",
    "    except KeyboardInterrupt:\n",
    "        print('Interrupted... exiting.')\n",
    "    finally:\n",
    "        print('Exiting.')\n",
    "        "
   ]
  },
  {
   "cell_type": "code",
   "execution_count": null,
   "metadata": {},
   "outputs": [],
   "source": []
  }
 ],
 "metadata": {
  "kernelspec": {
   "display_name": "Python 3",
   "language": "python",
   "name": "python3"
  },
  "language_info": {
   "codemirror_mode": {
    "name": "ipython",
    "version": 3
   },
   "file_extension": ".py",
   "mimetype": "text/x-python",
   "name": "python",
   "nbconvert_exporter": "python",
   "pygments_lexer": "ipython3",
   "version": "3.6.1"
  }
 },
 "nbformat": 4,
 "nbformat_minor": 2
}
