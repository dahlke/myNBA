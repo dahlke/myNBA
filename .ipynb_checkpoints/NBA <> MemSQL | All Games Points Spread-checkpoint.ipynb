{
 "cells": [
  {
   "cell_type": "code",
   "execution_count": 20,
   "metadata": {},
   "outputs": [],
   "source": [
    "import pymysql\n",
    "import pandas \n",
    "\n",
    "HOST = \"127.0.0.1\"\n",
    "PORT = 3306\n",
    "USER = \"root\"\n",
    "PASSWORD = \"\"\n",
    "DATABASE = \"nba\"\n",
    "\n",
    "conn = pymysql.connect(host=HOST, port=PORT, user=USER, password=PASSWORD, database=DATABASE, charset='utf8mb4')\n",
    "\n",
    "def get_all_2017_18_games():\n",
    "    \"\"\" Create a database and table for this benchmark to use. \"\"\"\n",
    "\n",
    "    return pandas.read_sql_query(\"\"\"\n",
    "        SELECT\n",
    "            gh.game_date,\n",
    "            gh.game_id,\n",
    "            /*\n",
    "            ht.team_id home_team_id,\n",
    "            vt.team_id visitor_team_id,\n",
    "            */\n",
    "            ht.name home_team_name,\n",
    "            gtls_ht.points home_team_points,\n",
    "            vt.name visitor_team_name,\n",
    "            gtls_vt.points visitor_team_points\n",
    "        FROM\n",
    "            game_header gh,\n",
    "            game_team_line_score gtls_ht,\n",
    "            game_team_line_score gtls_vt,\n",
    "            team ht,\n",
    "            team vt\n",
    "        WHERE\n",
    "            gh.game_date >= '2017-07-01' AND\n",
    "            gh.game_id = gtls_ht.game_id AND\n",
    "            gh.game_id = gtls_vt.game_id AND\n",
    "            gtls_ht.team_id = ht.team_id AND\n",
    "            gh.home_team_id = ht.team_id AND\n",
    "            gtls_vt.team_id = vt.team_id AND\n",
    "            gh.visitor_team_id = vt.team_id\n",
    "        GROUP BY 2, 3, 4, 5\n",
    "        ORDER BY 1 DESC;\n",
    "    \"\"\", conn)\n",
    "\n",
    "games_df = get_all_2017_18_games()"
   ]
  },
  {
   "cell_type": "code",
   "execution_count": 35,
   "metadata": {},
   "outputs": [
    {
     "name": "stdout",
     "output_type": "stream",
     "text": [
      "High five! You successfully sent some data to your account on plotly. View your plot in your browser at https://plot.ly/~NeilDahlke/0 or inside your plot.ly account where it is named 'Home Team Points v Away Team Points Comparison'\n"
     ]
    },
    {
     "data": {
      "text/html": [
       "<iframe id=\"igraph\" scrolling=\"no\" style=\"border:none;\" seamless=\"seamless\" src=\"https://plot.ly/~NeilDahlke/0.embed\" height=\"525px\" width=\"100%\"></iframe>"
      ],
      "text/plain": [
       "<plotly.tools.PlotlyDisplay object>"
      ]
     },
     "execution_count": 35,
     "metadata": {},
     "output_type": "execute_result"
    }
   ],
   "source": [
    "import plotly.plotly as ply\n",
    "from plotly.graph_objs import *\n",
    "\n",
    "game_names = []\n",
    "for i, gdf in games_df.iterrows():\n",
    "    game_name = '%s - %s @ %s' % (gdf['game_date'], gdf['home_team_name'], gdf['visitor_team_name'])\n",
    "    game_names.append(game_name)\n",
    " \n",
    "trace1 = Scatter(\n",
    "     x=games_df['home_team_points'],\n",
    "     y=games_df['visitor_team_points'],\n",
    "     text=game_names,\n",
    "     mode='markers'\n",
    ")\n",
    "\n",
    "layout = Layout(\n",
    "     xaxis=XAxis( title='Home Team Points' ),\n",
    "     yaxis=YAxis( type='log', title='Visitor Team Points' )\n",
    ")\n",
    "\n",
    "data = Data([trace1])\n",
    "fig = Figure(data=data, layout=layout)\n",
    "ply.iplot(fig, filename='Home Team Points v Away Team Points Comparison')"
   ]
  },
  {
   "cell_type": "code",
   "execution_count": null,
   "metadata": {},
   "outputs": [],
   "source": []
  }
 ],
 "metadata": {
  "kernelspec": {
   "display_name": "Python 3",
   "language": "python",
   "name": "python3"
  },
  "language_info": {
   "codemirror_mode": {
    "name": "ipython",
    "version": 3
   },
   "file_extension": ".py",
   "mimetype": "text/x-python",
   "name": "python",
   "nbconvert_exporter": "python",
   "pygments_lexer": "ipython3",
   "version": "3.6.1"
  }
 },
 "nbformat": 4,
 "nbformat_minor": 2
}
