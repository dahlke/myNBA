{
 "cells": [
  {
   "cell_type": "code",
   "execution_count": 3,
   "metadata": {},
   "outputs": [
    {
     "name": "stdout",
     "output_type": "stream",
     "text": [
      "neil\n",
      "games_played\n",
      "t1_team_name\n",
      "t2_team_name\n"
     ]
    }
   ],
   "source": [
    "import pymysql\n",
    "import pandas \n",
    "\n",
    "HOST = \"127.0.0.1\"\n",
    "PORT = 3306\n",
    "USER = \"root\"\n",
    "PASSWORD = \"\"\n",
    "DATABASE = \"nba\"\n",
    "\n",
    "conn = pymysql.connect(host=HOST, port=PORT, user=USER, password=PASSWORD, database=DATABASE, charset='utf8mb4')\n",
    "\n",
    "def get_all_2017_18_matchups():\n",
    "\n",
    "    return pandas.read_sql_query(\"\"\"\n",
    "        SELECT\n",
    "        COUNT(*) games_played,\n",
    "        t1.name t1_team_name,\n",
    "        t2.name t2_team_name\n",
    "        FROM\n",
    "            game_header gh,\n",
    "            team t1,\n",
    "            team t2\n",
    "        WHERE\n",
    "            gh.game_date >= '2017-07-01' AND\n",
    "            gh.home_team_id = t1.team_id AND \n",
    "            gh.visitor_team_id = t2.team_id\n",
    "        GROUP BY 2, 3\n",
    "        ORDER BY 1 DESC\n",
    "    \"\"\", conn)\n",
    "\n",
    "games_df = get_all_2017_18_matchups()\n",
    "for game in games_df:\n",
    "    print(game)"
   ]
  },
  {
   "cell_type": "code",
   "execution_count": null,
   "metadata": {},
   "outputs": [],
   "source": []
  },
  {
   "cell_type": "code",
   "execution_count": null,
   "metadata": {},
   "outputs": [],
   "source": []
  }
 ],
 "metadata": {
  "kernelspec": {
   "display_name": "Python 3",
   "language": "python",
   "name": "python3"
  }
 },
 "nbformat": 4,
 "nbformat_minor": 2
}
