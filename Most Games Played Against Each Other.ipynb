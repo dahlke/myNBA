{
 "cells": [
  {
   "cell_type": "code",
   "execution_count": 6,
   "metadata": {},
   "outputs": [
    {
     "ename": "AttributeError",
     "evalue": "'tuple' object has no attribute 't1_team_name'",
     "output_type": "error",
     "traceback": [
      "\u001b[0;31m---------------------------------------------------------------------------\u001b[0m",
      "\u001b[0;31mAttributeError\u001b[0m                            Traceback (most recent call last)",
      "\u001b[0;32m<ipython-input-6-a07caba8c0ee>\u001b[0m in \u001b[0;36m<module>\u001b[0;34m()\u001b[0m\n\u001b[1;32m     31\u001b[0m \u001b[0mgames_df\u001b[0m \u001b[0;34m=\u001b[0m \u001b[0mget_all_2017_18_matchups\u001b[0m\u001b[0;34m(\u001b[0m\u001b[0;34m)\u001b[0m\u001b[0;34m\u001b[0m\u001b[0m\n\u001b[1;32m     32\u001b[0m \u001b[0;32mfor\u001b[0m \u001b[0mgame\u001b[0m \u001b[0;32min\u001b[0m \u001b[0mgames_df\u001b[0m\u001b[0;34m.\u001b[0m\u001b[0miterrows\u001b[0m\u001b[0;34m(\u001b[0m\u001b[0;34m)\u001b[0m\u001b[0;34m:\u001b[0m\u001b[0;34m\u001b[0m\u001b[0m\n\u001b[0;32m---> 33\u001b[0;31m     \u001b[0mprint\u001b[0m\u001b[0;34m(\u001b[0m\u001b[0mgame\u001b[0m\u001b[0;34m.\u001b[0m\u001b[0mt1_team_name\u001b[0m\u001b[0;34m)\u001b[0m\u001b[0;34m\u001b[0m\u001b[0m\n\u001b[0m",
      "\u001b[0;31mAttributeError\u001b[0m: 'tuple' object has no attribute 't1_team_name'"
     ]
    }
   ],
   "source": [
    "import pymysql\n",
    "import pandas \n",
    "\n",
    "HOST = \"127.0.0.1\"\n",
    "PORT = 3306\n",
    "USER = \"root\"\n",
    "PASSWORD = \"\"\n",
    "DATABASE = \"nba\"\n",
    "\n",
    "conn = pymysql.connect(host=HOST, port=PORT, user=USER, password=PASSWORD, database=DATABASE, charset='utf8mb4')\n",
    "\n",
    "def get_all_2017_18_matchups():\n",
    "\n",
    "    return pandas.read_sql_query(\"\"\"\n",
    "        SELECT\n",
    "        COUNT(*) games_played,\n",
    "        t1.name t1_team_name,\n",
    "        t2.name t2_team_name\n",
    "        FROM\n",
    "            game_header gh,\n",
    "            team t1,\n",
    "            team t2\n",
    "        WHERE\n",
    "            gh.game_date >= '2017-07-01' AND\n",
    "            gh.home_team_id = t1.team_id AND \n",
    "            gh.visitor_team_id = t2.team_id\n",
    "        GROUP BY 2, 3\n",
    "        ORDER BY 1 DESC\n",
    "    \"\"\", conn)\n",
    "\n",
    "games_df = get_all_2017_18_matchups()\n",
    "for game in games_df.iterrows():\n",
    "    print(game.t1_team_name)"
   ]
  },
  {
   "cell_type": "code",
   "execution_count": null,
   "metadata": {},
   "outputs": [],
   "source": []
  },
  {
   "cell_type": "code",
   "execution_count": null,
   "metadata": {},
   "outputs": [],
   "source": []
  }
 ],
 "metadata": {
  "kernelspec": {
   "display_name": "Python 3",
   "language": "python",
   "name": "python3"
  },
  "language_info": {
   "codemirror_mode": {
    "name": "ipython",
    "version": 3
   },
   "file_extension": ".py",
   "mimetype": "text/x-python",
   "name": "python",
   "nbconvert_exporter": "python",
   "pygments_lexer": "ipython3",
   "version": "3.6.1"
  }
 },
 "nbformat": 4,
 "nbformat_minor": 2
}
